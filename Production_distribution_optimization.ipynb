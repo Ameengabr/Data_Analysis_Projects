{
 "cells": [
  {
   "cell_type": "markdown",
   "id": "89eeb5ad",
   "metadata": {},
   "source": [
    "\n",
    "## The Decision Problem\n",
    "We make widgets. Have a set of production facilities that produce boxes of widgets. There is also a set of distribution locations that will then distribute the widgets for sale. Each distribution center has a forecasted demand and each production facility has a min and max number of widgets it can make during this period. We need to ensure that each distribution facility receives enough widgets to satisfy demand from production and we want to do this at minimal cost. The minimum production is 75% of the production facilities max value. \n",
    "\n",
    "Our sets are:\n",
    "- $P = \\{\\texttt{'Baltimore', 'Cleveland', 'Little Rock', 'Birmingham', 'Charleston'}\\} \\quad\\quad\\quad\\quad\\quad\\quad\\quad\\space\\space \\texttt{Production}$\n",
    "- $D = \\{\\texttt{'Columbia', 'Indianapolis', 'Lexington', 'Nashville', 'Richmond', 'St. Louis'}\\} \\quad\\quad \\texttt{Distribution}$\n"
   ]
  },
  {
   "cell_type": "code",
   "execution_count": 49,
   "id": "28e16593-5c56-43d6-b2fb-d05835d38ea3",
   "metadata": {},
   "outputs": [
    {
     "name": "stdout",
     "output_type": "stream",
     "text": [
      "Restricted license - for non-production use only - expires 2025-11-24\n"
     ]
    }
   ],
   "source": [
    "# Import important packages \n",
    "import pandas as pd\n",
    "import gurobipy as gp\n",
    "from gurobipy import GRB\n",
    "\n",
    "# Sets P and D, respectively\n",
    "production = ['Baltimore','Cleveland','Little Rock','Birmingham','Charleston']\n",
    "distribution = ['Columbia','Indianapolis','Lexington','Nashville','Richmond','St. Louis']\n",
    "\n",
    "# Define a gurobipy model for the decision problem\n",
    "model = gp.Model('widgets')"
   ]
  },
  {
   "cell_type": "markdown",
   "id": "728aaa2d-b631-4ce3-9bd2-c619732a291c",
   "metadata": {},
   "source": [
    "## Parameters\n",
    "\n",
    "- $m_p$ is the max production in location $p$, $\\forall p \\in P \\quad\\quad\\quad\\quad\\quad\\quad\\quad\\quad\\quad\\quad\\quad\\quad\\quad\\quad\\space\\space \\texttt{max}\\_\\texttt{prod[p]}$\n",
    "- $n_d$ is the number of customers for a distribution center $d$, $\\forall d \\in D \\quad\\quad\\quad\\quad\\quad\\quad\\quad\\quad \\texttt{n}\\_\\texttt{demand[d]}$\n",
    "- $c_{p,d}$ is the cost to ship a widget between location $p$ and location $d$, $\\forall p \\in P, d \\in D \\quad\\quad\\quad \\texttt{cost[p,d]}$"
   ]
  },
  {
   "cell_type": "code",
   "execution_count": 50,
   "id": "924fa2e7-7f88-4f69-a5e1-74feed55adf5",
   "metadata": {},
   "outputs": [
    {
     "data": {
      "text/html": [
       "<div>\n",
       "<style scoped>\n",
       "    .dataframe tbody tr th:only-of-type {\n",
       "        vertical-align: middle;\n",
       "    }\n",
       "\n",
       "    .dataframe tbody tr th {\n",
       "        vertical-align: top;\n",
       "    }\n",
       "\n",
       "    .dataframe thead th {\n",
       "        text-align: right;\n",
       "    }\n",
       "</style>\n",
       "<table border=\"1\" class=\"dataframe\">\n",
       "  <thead>\n",
       "    <tr style=\"text-align: right;\">\n",
       "      <th>distribution</th>\n",
       "      <th>Columbia</th>\n",
       "      <th>Indianapolis</th>\n",
       "      <th>Lexington</th>\n",
       "      <th>Nashville</th>\n",
       "      <th>Richmond</th>\n",
       "      <th>St. Louis</th>\n",
       "    </tr>\n",
       "    <tr>\n",
       "      <th>production</th>\n",
       "      <th></th>\n",
       "      <th></th>\n",
       "      <th></th>\n",
       "      <th></th>\n",
       "      <th></th>\n",
       "      <th></th>\n",
       "    </tr>\n",
       "  </thead>\n",
       "  <tbody>\n",
       "    <tr>\n",
       "      <th>Baltimore</th>\n",
       "      <td>4.50</td>\n",
       "      <td>5.09</td>\n",
       "      <td>4.33</td>\n",
       "      <td>5.96</td>\n",
       "      <td>1.96</td>\n",
       "      <td>7.30</td>\n",
       "    </tr>\n",
       "    <tr>\n",
       "      <th>Birmingham</th>\n",
       "      <td>3.33</td>\n",
       "      <td>4.33</td>\n",
       "      <td>3.38</td>\n",
       "      <td>1.53</td>\n",
       "      <td>5.95</td>\n",
       "      <td>4.01</td>\n",
       "    </tr>\n",
       "    <tr>\n",
       "      <th>Charleston</th>\n",
       "      <td>3.02</td>\n",
       "      <td>2.61</td>\n",
       "      <td>1.61</td>\n",
       "      <td>4.44</td>\n",
       "      <td>2.36</td>\n",
       "      <td>4.60</td>\n",
       "    </tr>\n",
       "    <tr>\n",
       "      <th>Cleveland</th>\n",
       "      <td>2.43</td>\n",
       "      <td>2.37</td>\n",
       "      <td>2.54</td>\n",
       "      <td>4.13</td>\n",
       "      <td>3.20</td>\n",
       "      <td>4.88</td>\n",
       "    </tr>\n",
       "    <tr>\n",
       "      <th>Little Rock</th>\n",
       "      <td>6.42</td>\n",
       "      <td>4.83</td>\n",
       "      <td>3.39</td>\n",
       "      <td>4.40</td>\n",
       "      <td>7.44</td>\n",
       "      <td>2.92</td>\n",
       "    </tr>\n",
       "  </tbody>\n",
       "</table>\n",
       "</div>"
      ],
      "text/plain": [
       "distribution  Columbia  Indianapolis  Lexington  Nashville  Richmond  \\\n",
       "production                                                             \n",
       "Baltimore         4.50          5.09       4.33       5.96      1.96   \n",
       "Birmingham        3.33          4.33       3.38       1.53      5.95   \n",
       "Charleston        3.02          2.61       1.61       4.44      2.36   \n",
       "Cleveland         2.43          2.37       2.54       4.13      3.20   \n",
       "Little Rock       6.42          4.83       3.39       4.40      7.44   \n",
       "\n",
       "distribution  St. Louis  \n",
       "production               \n",
       "Baltimore          7.30  \n",
       "Birmingham         4.01  \n",
       "Charleston         4.60  \n",
       "Cleveland          4.88  \n",
       "Little Rock        2.92  "
      ]
     },
     "execution_count": 50,
     "metadata": {},
     "output_type": "execute_result"
    }
   ],
   "source": [
    "# Import Dataset \n",
    "path = 'https://raw.githubusercontent.com/Gurobi/modeling-examples/master/optimization101/Modeling_Session_1/cost.csv'\n",
    "transp_cost = pd.Series(pd.read_csv(path).groupby([\"production\",\"distribution\"])[\"cost\"].sum())\n",
    "transp_cost.reset_index().pivot(index='production', columns='distribution', values='cost')"
   ]
  },
  {
   "cell_type": "code",
   "execution_count": 51,
   "id": "cf7664cc-4547-4b72-948f-a02e138c45d9",
   "metadata": {},
   "outputs": [
    {
     "data": {
      "text/html": [
       "<div>\n",
       "<style scoped>\n",
       "    .dataframe tbody tr th:only-of-type {\n",
       "        vertical-align: middle;\n",
       "    }\n",
       "\n",
       "    .dataframe tbody tr th {\n",
       "        vertical-align: top;\n",
       "    }\n",
       "\n",
       "    .dataframe thead th {\n",
       "        text-align: right;\n",
       "    }\n",
       "</style>\n",
       "<table border=\"1\" class=\"dataframe\">\n",
       "  <thead>\n",
       "    <tr style=\"text-align: right;\">\n",
       "      <th></th>\n",
       "      <th>max_production</th>\n",
       "    </tr>\n",
       "  </thead>\n",
       "  <tbody>\n",
       "    <tr>\n",
       "      <th>Baltimore</th>\n",
       "      <td>180</td>\n",
       "    </tr>\n",
       "    <tr>\n",
       "      <th>Cleveland</th>\n",
       "      <td>200</td>\n",
       "    </tr>\n",
       "    <tr>\n",
       "      <th>Little Rock</th>\n",
       "      <td>140</td>\n",
       "    </tr>\n",
       "    <tr>\n",
       "      <th>Birmingham</th>\n",
       "      <td>80</td>\n",
       "    </tr>\n",
       "    <tr>\n",
       "      <th>Charleston</th>\n",
       "      <td>180</td>\n",
       "    </tr>\n",
       "  </tbody>\n",
       "</table>\n",
       "</div>"
      ],
      "text/plain": [
       "             max_production\n",
       "Baltimore               180\n",
       "Cleveland               200\n",
       "Little Rock             140\n",
       "Birmingham               80\n",
       "Charleston              180"
      ]
     },
     "execution_count": 51,
     "metadata": {},
     "output_type": "execute_result"
    }
   ],
   "source": [
    "max_prod = pd.Series([180,200,140,80,180], index = production, name = \"max_production\")\n",
    "n_demand = pd.Series([89,95,121,101,116,181], index = distribution, name = \"demand\") \n",
    "max_prod.to_frame()"
   ]
  },
  {
   "cell_type": "markdown",
   "id": "fd659abc-ab18-49d4-b42e-43e43f19cccf",
   "metadata": {},
   "source": [
    "We also have the requirement that each production facility needs to produce at 75% of this maximum output. We'll denote this value by $a$ in the formulation \"frac\" for the fraction of maximum production required. Initially we set $a = 0.75$."
   ]
  },
  {
   "cell_type": "code",
   "execution_count": 52,
   "id": "dd77683c-47d1-4ee2-af3d-e9ce2003c209",
   "metadata": {},
   "outputs": [],
   "source": [
    "frac = 0.75"
   ]
  },
  {
   "cell_type": "code",
   "execution_count": 53,
   "id": "b66187a6-2b42-4d9b-8a96-6969da5150fb",
   "metadata": {},
   "outputs": [
    {
     "data": {
      "text/plain": [
       "{('Baltimore', 'Columbia'): <gurobi.Var prod_ship[Baltimore,Columbia]>,\n",
       " ('Baltimore', 'Indianapolis'): <gurobi.Var prod_ship[Baltimore,Indianapolis]>,\n",
       " ('Baltimore', 'Lexington'): <gurobi.Var prod_ship[Baltimore,Lexington]>,\n",
       " ('Baltimore', 'Nashville'): <gurobi.Var prod_ship[Baltimore,Nashville]>,\n",
       " ('Baltimore', 'Richmond'): <gurobi.Var prod_ship[Baltimore,Richmond]>,\n",
       " ('Baltimore', 'St. Louis'): <gurobi.Var prod_ship[Baltimore,St. Louis]>,\n",
       " ('Cleveland', 'Columbia'): <gurobi.Var prod_ship[Cleveland,Columbia]>,\n",
       " ('Cleveland', 'Indianapolis'): <gurobi.Var prod_ship[Cleveland,Indianapolis]>,\n",
       " ('Cleveland', 'Lexington'): <gurobi.Var prod_ship[Cleveland,Lexington]>,\n",
       " ('Cleveland', 'Nashville'): <gurobi.Var prod_ship[Cleveland,Nashville]>,\n",
       " ('Cleveland', 'Richmond'): <gurobi.Var prod_ship[Cleveland,Richmond]>,\n",
       " ('Cleveland', 'St. Louis'): <gurobi.Var prod_ship[Cleveland,St. Louis]>,\n",
       " ('Little Rock', 'Columbia'): <gurobi.Var prod_ship[Little Rock,Columbia]>,\n",
       " ('Little Rock',\n",
       "  'Indianapolis'): <gurobi.Var prod_ship[Little Rock,Indianapolis]>,\n",
       " ('Little Rock', 'Lexington'): <gurobi.Var prod_ship[Little Rock,Lexington]>,\n",
       " ('Little Rock', 'Nashville'): <gurobi.Var prod_ship[Little Rock,Nashville]>,\n",
       " ('Little Rock', 'Richmond'): <gurobi.Var prod_ship[Little Rock,Richmond]>,\n",
       " ('Little Rock', 'St. Louis'): <gurobi.Var prod_ship[Little Rock,St. Louis]>,\n",
       " ('Birmingham', 'Columbia'): <gurobi.Var prod_ship[Birmingham,Columbia]>,\n",
       " ('Birmingham',\n",
       "  'Indianapolis'): <gurobi.Var prod_ship[Birmingham,Indianapolis]>,\n",
       " ('Birmingham', 'Lexington'): <gurobi.Var prod_ship[Birmingham,Lexington]>,\n",
       " ('Birmingham', 'Nashville'): <gurobi.Var prod_ship[Birmingham,Nashville]>,\n",
       " ('Birmingham', 'Richmond'): <gurobi.Var prod_ship[Birmingham,Richmond]>,\n",
       " ('Birmingham', 'St. Louis'): <gurobi.Var prod_ship[Birmingham,St. Louis]>,\n",
       " ('Charleston', 'Columbia'): <gurobi.Var prod_ship[Charleston,Columbia]>,\n",
       " ('Charleston',\n",
       "  'Indianapolis'): <gurobi.Var prod_ship[Charleston,Indianapolis]>,\n",
       " ('Charleston', 'Lexington'): <gurobi.Var prod_ship[Charleston,Lexington]>,\n",
       " ('Charleston', 'Nashville'): <gurobi.Var prod_ship[Charleston,Nashville]>,\n",
       " ('Charleston', 'Richmond'): <gurobi.Var prod_ship[Charleston,Richmond]>,\n",
       " ('Charleston', 'St. Louis'): <gurobi.Var prod_ship[Charleston,St. Louis]>}"
      ]
     },
     "execution_count": 53,
     "metadata": {},
     "output_type": "execute_result"
    }
   ],
   "source": [
    "# Add Variables \n",
    "x = model.addVars(production, distribution, name = 'prod_ship')\n",
    "model.update()\n",
    "x"
   ]
  },
  {
   "cell_type": "markdown",
   "id": "9dde6c86",
   "metadata": {},
   "source": [
    "## Constraints\n",
    "\n",
    "### Our Constraints\n",
    "To start, we'll formulate the demand constraints for each distribution location first and add them to the model.\n",
    "\n",
    "\\begin{align*} \n",
    "\\sum_{p}x_{p,d} \\ge n_d, \\quad \\forall d \\in D \\quad\\quad \\texttt{meet}\\_\\texttt{demand[d]}\\\\ \n",
    "\\end{align*}\n",
    "Next we have the maximum number of widgets each production facility can make. We also have that each facility must make at least 75% of its max production. \n",
    "\n",
    "$$\n",
    "\\begin{align*} \n",
    "\\sum_{d}x_{p,d} &\\le m_p, &\\forall p \\in P \\quad\\quad &\\texttt{can}\\_\\texttt{produce[p]}\\\\ \n",
    "\\sum_{d}x_{p,d} &\\ge a*m_p,&\\forall p \\in P \\quad\\quad &\\texttt{must}\\_\\texttt{produce[p]}\\\\ \n",
    "\\end{align*}\n",
    "$$\n"
   ]
  },
  {
   "cell_type": "code",
   "execution_count": 54,
   "id": "5fee7987-ff5e-4b00-9e28-c93121c44ec3",
   "metadata": {},
   "outputs": [
    {
     "data": {
      "text/plain": [
       "{'Baltimore': <gurobi.Constr can_produce[Baltimore]>,\n",
       " 'Cleveland': <gurobi.Constr can_produce[Cleveland]>,\n",
       " 'Little Rock': <gurobi.Constr can_produce[Little Rock]>,\n",
       " 'Birmingham': <gurobi.Constr can_produce[Birmingham]>,\n",
       " 'Charleston': <gurobi.Constr can_produce[Charleston]>}"
      ]
     },
     "execution_count": 54,
     "metadata": {},
     "output_type": "execute_result"
    }
   ],
   "source": [
    "meet_demand = model.addConstrs((gp.quicksum(x[p,d] for p in production) >= n_demand[d] for d in distribution), \n",
    "                               name = 'meet_demand')\n",
    "can_produce = model.addConstrs((gp.quicksum(x[p,d] for d in distribution) <= max_prod[p] for p in production), \n",
    "                               name = 'can_produce')# (x.sum(i, '*')\n",
    "must_produce = model.addConstrs((gp.quicksum(x[p,d] for d in distribution) >= frac*max_prod[p] for p in production), \n",
    "                                name = 'must_produce')\n",
    "model.update()\n",
    "can_produce"
   ]
  },
  {
   "cell_type": "markdown",
   "id": "b5be8505-9359-4004-8ac0-b54502db661e",
   "metadata": {},
   "source": [
    "## Objective Function\n",
    "We were told to (Reduce) the transportation costs and we'll use this to determine our objective function as minimizing the total cost to ship widgets from production to distribution locations. \n",
    "### Our Objective Function\n",
    "$$\n",
    "\\begin{align*}\n",
    "\\text{minimize} \\quad & \\sum_{p \\in P} \\sum_{d \\in D} c_{p,d} x_{p,d}, \\\\\n",
    "& \\forall p \\in P, \\forall d \\in D\n",
    "\\end{align*}\n"
   ]
  },
  {
   "cell_type": "code",
   "execution_count": 55,
   "id": "2756333c-6a92-4a3a-ba4d-9ec706d900f9",
   "metadata": {},
   "outputs": [],
   "source": [
    "model.setObjective(gp.quicksum(transp_cost[p,d]*x[p,d] for p in production for d in distribution), GRB.MINIMIZE) "
   ]
  },
  {
   "cell_type": "markdown",
   "id": "4b77c7b0-ddd1-48de-8d41-71a2e0fd77f3",
   "metadata": {},
   "source": [
    "## Find, Extract, and Analyze the Solution"
   ]
  },
  {
   "cell_type": "code",
   "execution_count": 56,
   "id": "f2f93cde-16ae-4e1d-a9ab-835761587e7f",
   "metadata": {},
   "outputs": [
    {
     "name": "stdout",
     "output_type": "stream",
     "text": [
      "Warning: variable name \"prod_ship[Baltimore,St. Louis]\" has a space\n",
      "Warning: constraint name \"meet_demand[St. Louis]\" has a space\n",
      "Warning: to let Gurobi read it back, use rlp format\n"
     ]
    }
   ],
   "source": [
    "model.write('widget_shipment.lp')"
   ]
  },
  {
   "cell_type": "markdown",
   "id": "12763405-b27f-4a6d-897f-db30df211caa",
   "metadata": {},
   "source": [
    "### Run the Optimization"
   ]
  },
  {
   "cell_type": "code",
   "execution_count": 57,
   "id": "119fc40e-d1fc-4d13-b227-90255fd806ea",
   "metadata": {},
   "outputs": [
    {
     "name": "stdout",
     "output_type": "stream",
     "text": [
      "Gurobi Optimizer version 11.0.2 build v11.0.2rc0 (linux64 - \"Ubuntu 20.04.6 LTS\")\n",
      "\n",
      "CPU model: AMD EPYC 7763 64-Core Processor, instruction set [SSE2|AVX|AVX2]\n",
      "Thread count: 2 physical cores, 4 logical processors, using up to 4 threads\n",
      "\n",
      "Optimize a model with 16 rows, 30 columns and 90 nonzeros\n",
      "Model fingerprint: 0x20186c14\n",
      "Coefficient statistics:\n",
      "  Matrix range     [1e+00, 1e+00]\n",
      "  Objective range  [2e+00, 7e+00]\n",
      "  Bounds range     [0e+00, 0e+00]\n",
      "  RHS range        [6e+01, 2e+02]\n",
      "Presolve removed 5 rows and 0 columns\n",
      "Presolve time: 0.01s\n",
      "Presolved: 11 rows, 35 columns, 65 nonzeros\n",
      "\n",
      "Iteration    Objective       Primal Inf.    Dual Inf.      Time\n",
      "       0    0.0000000e+00   1.610000e+02   0.000000e+00      0s\n",
      "      15    1.7048900e+03   0.000000e+00   0.000000e+00      0s\n",
      "\n",
      "Solved in 15 iterations and 0.01 seconds (0.00 work units)\n",
      "Optimal objective  1.704890000e+03\n"
     ]
    }
   ],
   "source": [
    "model.optimize()"
   ]
  },
  {
   "cell_type": "markdown",
   "id": "2ee05c74-fe8d-445f-9ffe-4a25d123a17b",
   "metadata": {},
   "source": [
    "### Extract the Solution"
   ]
  },
  {
   "cell_type": "code",
   "execution_count": 58,
   "id": "69d92eda-0937-4aff-8e60-ff012d766fa0",
   "metadata": {},
   "outputs": [
    {
     "data": {
      "text/html": [
       "<div>\n",
       "<style scoped>\n",
       "    .dataframe tbody tr th:only-of-type {\n",
       "        vertical-align: middle;\n",
       "    }\n",
       "\n",
       "    .dataframe tbody tr th {\n",
       "        vertical-align: top;\n",
       "    }\n",
       "\n",
       "    .dataframe thead th {\n",
       "        text-align: right;\n",
       "    }\n",
       "</style>\n",
       "<table border=\"1\" class=\"dataframe\">\n",
       "  <thead>\n",
       "    <tr style=\"text-align: right;\">\n",
       "      <th></th>\n",
       "      <th></th>\n",
       "      <th>cost</th>\n",
       "      <th>shipment</th>\n",
       "    </tr>\n",
       "    <tr>\n",
       "      <th>production</th>\n",
       "      <th>distribution</th>\n",
       "      <th></th>\n",
       "      <th></th>\n",
       "    </tr>\n",
       "  </thead>\n",
       "  <tbody>\n",
       "    <tr>\n",
       "      <th rowspan=\"6\" valign=\"top\">Baltimore</th>\n",
       "      <th>Columbia</th>\n",
       "      <td>4.50</td>\n",
       "      <td>0.0</td>\n",
       "    </tr>\n",
       "    <tr>\n",
       "      <th>Indianapolis</th>\n",
       "      <td>5.09</td>\n",
       "      <td>0.0</td>\n",
       "    </tr>\n",
       "    <tr>\n",
       "      <th>Lexington</th>\n",
       "      <td>4.33</td>\n",
       "      <td>0.0</td>\n",
       "    </tr>\n",
       "    <tr>\n",
       "      <th>Nashville</th>\n",
       "      <td>5.96</td>\n",
       "      <td>19.0</td>\n",
       "    </tr>\n",
       "    <tr>\n",
       "      <th>Richmond</th>\n",
       "      <td>1.96</td>\n",
       "      <td>116.0</td>\n",
       "    </tr>\n",
       "    <tr>\n",
       "      <th>St. Louis</th>\n",
       "      <td>7.30</td>\n",
       "      <td>0.0</td>\n",
       "    </tr>\n",
       "    <tr>\n",
       "      <th rowspan=\"6\" valign=\"top\">Birmingham</th>\n",
       "      <th>Columbia</th>\n",
       "      <td>3.33</td>\n",
       "      <td>0.0</td>\n",
       "    </tr>\n",
       "    <tr>\n",
       "      <th>Indianapolis</th>\n",
       "      <td>4.33</td>\n",
       "      <td>0.0</td>\n",
       "    </tr>\n",
       "    <tr>\n",
       "      <th>Lexington</th>\n",
       "      <td>3.38</td>\n",
       "      <td>0.0</td>\n",
       "    </tr>\n",
       "    <tr>\n",
       "      <th>Nashville</th>\n",
       "      <td>1.53</td>\n",
       "      <td>80.0</td>\n",
       "    </tr>\n",
       "    <tr>\n",
       "      <th>Richmond</th>\n",
       "      <td>5.95</td>\n",
       "      <td>0.0</td>\n",
       "    </tr>\n",
       "    <tr>\n",
       "      <th>St. Louis</th>\n",
       "      <td>4.01</td>\n",
       "      <td>0.0</td>\n",
       "    </tr>\n",
       "    <tr>\n",
       "      <th rowspan=\"6\" valign=\"top\">Charleston</th>\n",
       "      <th>Columbia</th>\n",
       "      <td>3.02</td>\n",
       "      <td>0.0</td>\n",
       "    </tr>\n",
       "    <tr>\n",
       "      <th>Indianapolis</th>\n",
       "      <td>2.61</td>\n",
       "      <td>0.0</td>\n",
       "    </tr>\n",
       "    <tr>\n",
       "      <th>Lexington</th>\n",
       "      <td>1.61</td>\n",
       "      <td>121.0</td>\n",
       "    </tr>\n",
       "    <tr>\n",
       "      <th>Nashville</th>\n",
       "      <td>4.44</td>\n",
       "      <td>0.0</td>\n",
       "    </tr>\n",
       "    <tr>\n",
       "      <th>Richmond</th>\n",
       "      <td>2.36</td>\n",
       "      <td>0.0</td>\n",
       "    </tr>\n",
       "    <tr>\n",
       "      <th>St. Louis</th>\n",
       "      <td>4.60</td>\n",
       "      <td>41.0</td>\n",
       "    </tr>\n",
       "    <tr>\n",
       "      <th rowspan=\"6\" valign=\"top\">Cleveland</th>\n",
       "      <th>Columbia</th>\n",
       "      <td>2.43</td>\n",
       "      <td>89.0</td>\n",
       "    </tr>\n",
       "    <tr>\n",
       "      <th>Indianapolis</th>\n",
       "      <td>2.37</td>\n",
       "      <td>95.0</td>\n",
       "    </tr>\n",
       "    <tr>\n",
       "      <th>Lexington</th>\n",
       "      <td>2.54</td>\n",
       "      <td>0.0</td>\n",
       "    </tr>\n",
       "    <tr>\n",
       "      <th>Nashville</th>\n",
       "      <td>4.13</td>\n",
       "      <td>2.0</td>\n",
       "    </tr>\n",
       "    <tr>\n",
       "      <th>Richmond</th>\n",
       "      <td>3.20</td>\n",
       "      <td>0.0</td>\n",
       "    </tr>\n",
       "    <tr>\n",
       "      <th>St. Louis</th>\n",
       "      <td>4.88</td>\n",
       "      <td>0.0</td>\n",
       "    </tr>\n",
       "    <tr>\n",
       "      <th rowspan=\"6\" valign=\"top\">Little Rock</th>\n",
       "      <th>Columbia</th>\n",
       "      <td>6.42</td>\n",
       "      <td>0.0</td>\n",
       "    </tr>\n",
       "    <tr>\n",
       "      <th>Indianapolis</th>\n",
       "      <td>4.83</td>\n",
       "      <td>0.0</td>\n",
       "    </tr>\n",
       "    <tr>\n",
       "      <th>Lexington</th>\n",
       "      <td>3.39</td>\n",
       "      <td>0.0</td>\n",
       "    </tr>\n",
       "    <tr>\n",
       "      <th>Nashville</th>\n",
       "      <td>4.40</td>\n",
       "      <td>0.0</td>\n",
       "    </tr>\n",
       "    <tr>\n",
       "      <th>Richmond</th>\n",
       "      <td>7.44</td>\n",
       "      <td>0.0</td>\n",
       "    </tr>\n",
       "    <tr>\n",
       "      <th>St. Louis</th>\n",
       "      <td>2.92</td>\n",
       "      <td>140.0</td>\n",
       "    </tr>\n",
       "  </tbody>\n",
       "</table>\n",
       "</div>"
      ],
      "text/plain": [
       "                          cost  shipment\n",
       "production  distribution                \n",
       "Baltimore   Columbia      4.50       0.0\n",
       "            Indianapolis  5.09       0.0\n",
       "            Lexington     4.33       0.0\n",
       "            Nashville     5.96      19.0\n",
       "            Richmond      1.96     116.0\n",
       "            St. Louis     7.30       0.0\n",
       "Birmingham  Columbia      3.33       0.0\n",
       "            Indianapolis  4.33       0.0\n",
       "            Lexington     3.38       0.0\n",
       "            Nashville     1.53      80.0\n",
       "            Richmond      5.95       0.0\n",
       "            St. Louis     4.01       0.0\n",
       "Charleston  Columbia      3.02       0.0\n",
       "            Indianapolis  2.61       0.0\n",
       "            Lexington     1.61     121.0\n",
       "            Nashville     4.44       0.0\n",
       "            Richmond      2.36       0.0\n",
       "            St. Louis     4.60      41.0\n",
       "Cleveland   Columbia      2.43      89.0\n",
       "            Indianapolis  2.37      95.0\n",
       "            Lexington     2.54       0.0\n",
       "            Nashville     4.13       2.0\n",
       "            Richmond      3.20       0.0\n",
       "            St. Louis     4.88       0.0\n",
       "Little Rock Columbia      6.42       0.0\n",
       "            Indianapolis  4.83       0.0\n",
       "            Lexington     3.39       0.0\n",
       "            Nashville     4.40       0.0\n",
       "            Richmond      7.44       0.0\n",
       "            St. Louis     2.92     140.0"
      ]
     },
     "execution_count": 58,
     "metadata": {},
     "output_type": "execute_result"
    }
   ],
   "source": [
    "x_values = pd.Series(model.getAttr('X', x), name = \"shipment\", index = transp_cost.index)\n",
    "sol = pd.concat([transp_cost, x_values], axis=1)\n",
    "#sol \n",
    "sol"
   ]
  },
  {
   "cell_type": "markdown",
   "id": "bde35449-0b63-4bb4-9926-d20013b1b95b",
   "metadata": {},
   "source": [
    "### Solution Analysis\n",
    "By aggregating the total production by facility to see which locations did not produce their maximum capacity of widgets and which production facilities are at the lower bound of their production. "
   ]
  },
  {
   "cell_type": "code",
   "execution_count": 59,
   "id": "53a42bc7-1e45-4245-84b9-f648d7e74fa5",
   "metadata": {},
   "outputs": [
    {
     "data": {
      "text/html": [
       "<div>\n",
       "<style scoped>\n",
       "    .dataframe tbody tr th:only-of-type {\n",
       "        vertical-align: middle;\n",
       "    }\n",
       "\n",
       "    .dataframe tbody tr th {\n",
       "        vertical-align: top;\n",
       "    }\n",
       "\n",
       "    .dataframe thead th {\n",
       "        text-align: right;\n",
       "    }\n",
       "</style>\n",
       "<table border=\"1\" class=\"dataframe\">\n",
       "  <thead>\n",
       "    <tr style=\"text-align: right;\">\n",
       "      <th></th>\n",
       "      <th>max_prod</th>\n",
       "      <th>Opt_ship_out</th>\n",
       "      <th>Remaining</th>\n",
       "      <th>Utilization</th>\n",
       "    </tr>\n",
       "  </thead>\n",
       "  <tbody>\n",
       "    <tr>\n",
       "      <th>Baltimore</th>\n",
       "      <td>180</td>\n",
       "      <td>135.0</td>\n",
       "      <td>45.0</td>\n",
       "      <td>0.75</td>\n",
       "    </tr>\n",
       "    <tr>\n",
       "      <th>Birmingham</th>\n",
       "      <td>80</td>\n",
       "      <td>80.0</td>\n",
       "      <td>0.0</td>\n",
       "      <td>1.00</td>\n",
       "    </tr>\n",
       "    <tr>\n",
       "      <th>Charleston</th>\n",
       "      <td>180</td>\n",
       "      <td>162.0</td>\n",
       "      <td>18.0</td>\n",
       "      <td>0.90</td>\n",
       "    </tr>\n",
       "    <tr>\n",
       "      <th>Cleveland</th>\n",
       "      <td>200</td>\n",
       "      <td>186.0</td>\n",
       "      <td>14.0</td>\n",
       "      <td>0.93</td>\n",
       "    </tr>\n",
       "    <tr>\n",
       "      <th>Little Rock</th>\n",
       "      <td>140</td>\n",
       "      <td>140.0</td>\n",
       "      <td>0.0</td>\n",
       "      <td>1.00</td>\n",
       "    </tr>\n",
       "  </tbody>\n",
       "</table>\n",
       "</div>"
      ],
      "text/plain": [
       "             max_prod  Opt_ship_out  Remaining  Utilization\n",
       "Baltimore         180         135.0       45.0         0.75\n",
       "Birmingham         80          80.0        0.0         1.00\n",
       "Charleston        180         162.0       18.0         0.90\n",
       "Cleveland         200         186.0       14.0         0.93\n",
       "Little Rock       140         140.0        0.0         1.00"
      ]
     },
     "execution_count": 59,
     "metadata": {},
     "output_type": "execute_result"
    }
   ],
   "source": [
    "# Sum the shipment amount by production facility\n",
    "ship_out = sol.groupby('production')['shipment'].sum()\n",
    "pd.DataFrame({\"max_prod\":max_prod,\"Opt_ship_out\":ship_out,'Remaining':max_prod - ship_out, 'Utilization':ship_out/max_prod})"
   ]
  },
  {
   "cell_type": "markdown",
   "id": "8f2d53b5-54bc-48c7-97e6-26c1c0f329b0",
   "metadata": {},
   "source": [
    "# Using Binary Variables\n",
    "In the original problem Birmingham's production is much lower than the rest of the facilities. Suppose we have the option to expand that facilities max capacity by either 25 or 50 widgets, but there is a cost of \\\\$50 and \\\\$75, respectively, to choose one of these options and we can choose at most one. We'll use a binary decision variable for each option named $xprod$. \n",
    "\n",
    "Let $xprod_0 = 1$ if we choose the first option and expand production capacity by 25 and $0$ otherwise.\n",
    "Let $xprod_1 = 1$ if we choose the second option and expand production capacity by 50 and $0$ otherwise.\n"
   ]
  },
  {
   "cell_type": "code",
   "execution_count": 60,
   "id": "dd9a333d-ae1d-4b29-a69c-760a7414ef59",
   "metadata": {},
   "outputs": [],
   "source": [
    "# These parts are the same as above outside of the new model name\n",
    "model2 = gp.Model('widgets2')\n",
    "x = model2.addVars(production, distribution, obj = transp_cost, name = 'prod_ship')\n",
    "meet_demand = model2.addConstrs((gp.quicksum(x[p,d] for p in production) >= n_demand[d] for d in distribution), name = 'meet_demand')"
   ]
  },
  {
   "cell_type": "markdown",
   "id": "5bc726e6-7982-46bd-9568-925351b22306",
   "metadata": {},
   "source": [
    "### Add Constraints \n",
    "$$\n",
    "\\begin{align*} \n",
    "\\sum_{d}x_{p,d} &\\le m_p, &\\forall p \\in P -\\{\\texttt{Birmingham}\\} \\\\ \n",
    "\\sum_{d}x_{p,d} &\\ge a*m_p,&\\forall p \\in P -\\{\\texttt{Birmingham}\\} \\\\ \n",
    "\\end{align*}\n",
    "$$\n"
   ]
  },
  {
   "cell_type": "code",
   "execution_count": 61,
   "id": "38e30563-b8c8-454b-9b61-e6ef6fa5fe83",
   "metadata": {},
   "outputs": [],
   "source": [
    "can_produce = model2.addConstrs((gp.quicksum(x[p,d] for d in distribution) <= max_prod[p] for p in production if p != 'Birmingham'), name = 'can_produce')\n",
    "must_produce =  model2.addConstrs((gp.quicksum(x[p,d] for d in distribution) >= frac*max_prod[p] for p in production if p != 'Birmingham'), name = 'must_produce')"
   ]
  },
  {
   "cell_type": "markdown",
   "id": "ed539f12-4ce2-4de6-820f-076e45ac0a73",
   "metadata": {},
   "source": [
    "Now, add the new binary variables."
   ]
  },
  {
   "cell_type": "code",
   "execution_count": 62,
   "id": "5eda68b8-6f7c-4245-8553-42f41fff5a7a",
   "metadata": {},
   "outputs": [],
   "source": [
    "xprod = model2.addVars(range(2), vtype = GRB.BINARY, obj = [50, 75], name = 'expand_Birmingham_prod')"
   ]
  },
  {
   "cell_type": "markdown",
   "id": "bf53d755-2ff2-46e3-a38a-2c8fb1434c64",
   "metadata": {},
   "source": [
    "\n",
    "The objective and new binary variables look like this in the formulation: \n",
    "\n",
    "\\begin{align*} \n",
    "{\\rm minimize} \\space &\\sum_{p,d}c_{p,d}x_{p,d} + 50*xprod_0 + 75*xprod_1, \\quad &\\forall p \\in P, d \\in D\\\\ \n",
    "&xprod_i \\in \\{0,1\\}, &{\\rm for} \\space i \\in \\{0,1\\}\n",
    "\\end{align*}\n",
    "\n",
    "Next we have the production constraints that are specific to the Birmingham facility.\n",
    "\n",
    "$$\n",
    "\\begin{align*} \n",
    "\\sum_{d}x_{p,d} &\\le m_p + 25*xprod_0 + 50*xprod_1, & p = \\texttt{Birmingham} \\\\ \n",
    "\\sum_{d}x_{p,d} &\\ge a*(m_p+ 25*xprod_0 + 50*xprod_1),& p = \\texttt{Birmingham} \\\\ \n",
    "\\end{align*}\n",
    "$$"
   ]
  },
  {
   "cell_type": "code",
   "execution_count": 63,
   "id": "487ee3df-6cf0-421a-95dc-54440248d81f",
   "metadata": {},
   "outputs": [],
   "source": [
    "Birmingham_max = model2.addConstr(gp.quicksum(x['Birmingham',d] for d in distribution) <= max_prod['Birmingham'] + 25*xprod[0] + 50*xprod[1], name = 'Birmingham_add_max')\n",
    "Birmingham_min = model2.addConstr(gp.quicksum(x['Birmingham',d] for d in distribution) >= frac*(max_prod['Birmingham'] + 25*xprod[0] + 50*xprod[1]), name = 'Birmingham_add_min')"
   ]
  },
  {
   "cell_type": "markdown",
   "id": "4ed63a6b-ef71-4eb6-b237-637096518f0a",
   "metadata": {},
   "source": [
    "It was stated above that we can select at most one of the expansion options which means we cannot allow both $xprod_0$ and $xprod_1$ to equal one. To model this we add a constraint limiting the sum of these two binary variables to at most one.\n",
    "\n",
    "$$\n",
    "\\begin{align*}\n",
    "\\sum_{i}xprod_i \\le 1\n",
    "\\end{align*}\n",
    "$$\n"
   ]
  },
  {
   "cell_type": "code",
   "execution_count": 64,
   "id": "a48175c5-6b22-402f-a207-9f590b7dc5cd",
   "metadata": {},
   "outputs": [],
   "source": [
    "Birmingham_lim = model2.addConstr(gp.quicksum(xprod[i] for i in range(2)) <= 1, name = 'expansion_choice')"
   ]
  },
  {
   "cell_type": "code",
   "execution_count": 65,
   "id": "fb182d4c-c533-4cc1-a559-05c07ef18975",
   "metadata": {},
   "outputs": [
    {
     "name": "stdout",
     "output_type": "stream",
     "text": [
      "Gurobi Optimizer version 11.0.2 build v11.0.2rc0 (linux64 - \"Ubuntu 20.04.6 LTS\")\n",
      "\n",
      "CPU model: AMD EPYC 7763 64-Core Processor, instruction set [SSE2|AVX|AVX2]\n",
      "Thread count: 2 physical cores, 4 logical processors, using up to 4 threads\n",
      "\n",
      "Optimize a model with 17 rows, 32 columns and 96 nonzeros\n",
      "Model fingerprint: 0x76de185e\n",
      "Variable types: 30 continuous, 2 integer (2 binary)\n",
      "Coefficient statistics:\n",
      "  Matrix range     [1e+00, 5e+01]\n",
      "  Objective range  [2e+00, 8e+01]\n",
      "  Bounds range     [1e+00, 1e+00]\n",
      "  RHS range        [1e+00, 2e+02]\n",
      "Presolve time: 0.00s\n",
      "Presolved: 17 rows, 32 columns, 96 nonzeros\n",
      "Variable types: 30 continuous, 2 integer (2 binary)\n",
      "Found heuristic solution: objective 1651.0200000\n",
      "\n",
      "Root relaxation: cutoff, 10 iterations, 0.00 seconds (0.00 work units)\n",
      "\n",
      "    Nodes    |    Current Node    |     Objective Bounds      |     Work\n",
      " Expl Unexpl |  Obj  Depth IntInf | Incumbent    BestBd   Gap | It/Node Time\n",
      "\n",
      "     0     0     cutoff    0      1651.02000 1651.02000  0.00%     -    0s\n",
      "\n",
      "Explored 1 nodes (10 simplex iterations) in 0.01 seconds (0.00 work units)\n",
      "Thread count was 4 (of 4 available processors)\n",
      "\n",
      "Solution count 1: 1651.02 \n",
      "\n",
      "Optimal solution found (tolerance 1.00e-04)\n",
      "Best objective 1.651020000000e+03, best bound 1.651020000000e+03, gap 0.0000%\n"
     ]
    }
   ],
   "source": [
    "model2.optimize()"
   ]
  },
  {
   "cell_type": "code",
   "execution_count": 66,
   "id": "34d94ec0-6ab4-4b68-8181-0c432595642e",
   "metadata": {},
   "outputs": [
    {
     "name": "stdout",
     "output_type": "stream",
     "text": [
      "The original model had a total cost of 1704.89\n",
      "The new formualtion has a total cost of 1651.02\n"
     ]
    }
   ],
   "source": [
    "obj1 = model.getObjective()\n",
    "obj2 = model2.getObjective()\n",
    "print(f\"The original model had a total cost of {round(obj1.getValue(),2)}\")\n",
    "print(f\"The new formualtion has a total cost of {round(obj2.getValue(),2)}\")"
   ]
  },
  {
   "cell_type": "markdown",
   "id": "6813d599-d8c1-49c3-8f09-f495c3b1af16",
   "metadata": {},
   "source": [
    "What does the change in objective function value tell us? \n"
   ]
  },
  {
   "cell_type": "code",
   "execution_count": 67,
   "id": "3177169c-67b9-4db3-804d-8b17b32fe70d",
   "metadata": {},
   "outputs": [
    {
     "data": {
      "text/plain": [
       "0   -0.0\n",
       "1   -0.0\n",
       "dtype: float64"
      ]
     },
     "execution_count": 67,
     "metadata": {},
     "output_type": "execute_result"
    }
   ],
   "source": [
    "pd.Series(model2.getAttr('X', xprod))"
   ]
  },
  {
   "cell_type": "markdown",
   "id": "3410274c-55fd-4724-9f76-92cfc8178647",
   "metadata": {},
   "source": [
    "The model selected the first expansion option since $xprod_0 = 1$, which was increasing production by 25 widgets in Birmingham. We can see the rest of the solution, which will include the increase in Birmingham's production capacity. "
   ]
  },
  {
   "cell_type": "code",
   "execution_count": 70,
   "id": "05f918a8-ed81-4210-a341-c2d401f1276c",
   "metadata": {},
   "outputs": [
    {
     "data": {
      "text/html": [
       "<div>\n",
       "<style scoped>\n",
       "    .dataframe tbody tr th:only-of-type {\n",
       "        vertical-align: middle;\n",
       "    }\n",
       "\n",
       "    .dataframe tbody tr th {\n",
       "        vertical-align: top;\n",
       "    }\n",
       "\n",
       "    .dataframe thead th {\n",
       "        text-align: right;\n",
       "    }\n",
       "</style>\n",
       "<table border=\"1\" class=\"dataframe\">\n",
       "  <thead>\n",
       "    <tr style=\"text-align: right;\">\n",
       "      <th></th>\n",
       "      <th></th>\n",
       "      <th>cost</th>\n",
       "      <th>shipment</th>\n",
       "    </tr>\n",
       "    <tr>\n",
       "      <th>production</th>\n",
       "      <th>distribution</th>\n",
       "      <th></th>\n",
       "      <th></th>\n",
       "    </tr>\n",
       "  </thead>\n",
       "  <tbody>\n",
       "    <tr>\n",
       "      <th rowspan=\"2\" valign=\"top\">Baltimore</th>\n",
       "      <th>Columbia</th>\n",
       "      <td>4.50</td>\n",
       "      <td>19.0</td>\n",
       "    </tr>\n",
       "    <tr>\n",
       "      <th>Richmond</th>\n",
       "      <td>1.96</td>\n",
       "      <td>116.0</td>\n",
       "    </tr>\n",
       "    <tr>\n",
       "      <th rowspan=\"2\" valign=\"top\">Birmingham</th>\n",
       "      <th>Columbia</th>\n",
       "      <td>3.33</td>\n",
       "      <td>4.0</td>\n",
       "    </tr>\n",
       "    <tr>\n",
       "      <th>Indianapolis</th>\n",
       "      <td>4.33</td>\n",
       "      <td>76.0</td>\n",
       "    </tr>\n",
       "    <tr>\n",
       "      <th>Charleston</th>\n",
       "      <th>St. Louis</th>\n",
       "      <td>4.60</td>\n",
       "      <td>180.0</td>\n",
       "    </tr>\n",
       "    <tr>\n",
       "      <th rowspan=\"3\" valign=\"top\">Cleveland</th>\n",
       "      <th>Columbia</th>\n",
       "      <td>2.43</td>\n",
       "      <td>66.0</td>\n",
       "    </tr>\n",
       "    <tr>\n",
       "      <th>Nashville</th>\n",
       "      <td>4.13</td>\n",
       "      <td>101.0</td>\n",
       "    </tr>\n",
       "    <tr>\n",
       "      <th>St. Louis</th>\n",
       "      <td>4.88</td>\n",
       "      <td>1.0</td>\n",
       "    </tr>\n",
       "    <tr>\n",
       "      <th rowspan=\"2\" valign=\"top\">Little Rock</th>\n",
       "      <th>Indianapolis</th>\n",
       "      <td>4.83</td>\n",
       "      <td>19.0</td>\n",
       "    </tr>\n",
       "    <tr>\n",
       "      <th>Lexington</th>\n",
       "      <td>3.39</td>\n",
       "      <td>121.0</td>\n",
       "    </tr>\n",
       "  </tbody>\n",
       "</table>\n",
       "</div>"
      ],
      "text/plain": [
       "                          cost  shipment\n",
       "production  distribution                \n",
       "Baltimore   Columbia      4.50      19.0\n",
       "            Richmond      1.96     116.0\n",
       "Birmingham  Columbia      3.33       4.0\n",
       "            Indianapolis  4.33      76.0\n",
       "Charleston  St. Louis     4.60     180.0\n",
       "Cleveland   Columbia      2.43      66.0\n",
       "            Nashville     4.13     101.0\n",
       "            St. Louis     4.88       1.0\n",
       "Little Rock Indianapolis  4.83      19.0\n",
       "            Lexington     3.39     121.0"
      ]
     },
     "execution_count": 70,
     "metadata": {},
     "output_type": "execute_result"
    }
   ],
   "source": [
    "x2_values = pd.Series(model2.getAttr('X', x), name = \"shipment\", index = transp_cost.index)\n",
    "sol2 = pd.concat([transp_cost, x2_values], axis=1)\n",
    "sol2[sol2.shipment > 0]"
   ]
  },
  {
   "cell_type": "code",
   "execution_count": 69,
   "id": "e3059174",
   "metadata": {},
   "outputs": [
    {
     "data": {
      "text/html": [
       "<div>\n",
       "<style scoped>\n",
       "    .dataframe tbody tr th:only-of-type {\n",
       "        vertical-align: middle;\n",
       "    }\n",
       "\n",
       "    .dataframe tbody tr th {\n",
       "        vertical-align: top;\n",
       "    }\n",
       "\n",
       "    .dataframe thead th {\n",
       "        text-align: right;\n",
       "    }\n",
       "</style>\n",
       "<table border=\"1\" class=\"dataframe\">\n",
       "  <thead>\n",
       "    <tr style=\"text-align: right;\">\n",
       "      <th></th>\n",
       "      <th>max_prod</th>\n",
       "      <th>Opt_ship_out</th>\n",
       "      <th>Remaining</th>\n",
       "      <th>Utilization</th>\n",
       "    </tr>\n",
       "  </thead>\n",
       "  <tbody>\n",
       "    <tr>\n",
       "      <th>Baltimore</th>\n",
       "      <td>180</td>\n",
       "      <td>135.0</td>\n",
       "      <td>45.0</td>\n",
       "      <td>0.75</td>\n",
       "    </tr>\n",
       "    <tr>\n",
       "      <th>Birmingham</th>\n",
       "      <td>80</td>\n",
       "      <td>80.0</td>\n",
       "      <td>0.0</td>\n",
       "      <td>1.00</td>\n",
       "    </tr>\n",
       "    <tr>\n",
       "      <th>Charleston</th>\n",
       "      <td>180</td>\n",
       "      <td>180.0</td>\n",
       "      <td>0.0</td>\n",
       "      <td>1.00</td>\n",
       "    </tr>\n",
       "    <tr>\n",
       "      <th>Cleveland</th>\n",
       "      <td>200</td>\n",
       "      <td>168.0</td>\n",
       "      <td>32.0</td>\n",
       "      <td>0.84</td>\n",
       "    </tr>\n",
       "    <tr>\n",
       "      <th>Little Rock</th>\n",
       "      <td>140</td>\n",
       "      <td>140.0</td>\n",
       "      <td>0.0</td>\n",
       "      <td>1.00</td>\n",
       "    </tr>\n",
       "  </tbody>\n",
       "</table>\n",
       "</div>"
      ],
      "text/plain": [
       "             max_prod  Opt_ship_out  Remaining  Utilization\n",
       "Baltimore         180         135.0       45.0         0.75\n",
       "Birmingham         80          80.0        0.0         1.00\n",
       "Charleston        180         180.0        0.0         1.00\n",
       "Cleveland         200         168.0       32.0         0.84\n",
       "Little Rock       140         140.0        0.0         1.00"
      ]
     },
     "execution_count": 69,
     "metadata": {},
     "output_type": "execute_result"
    }
   ],
   "source": [
    "ship_out = sol2.groupby('production')['shipment'].sum()\n",
    "pd.DataFrame({\"max_prod\":max_prod,\"Opt_ship_out\":ship_out,'Remaining':max_prod - ship_out, 'Utilization':ship_out/max_prod})"
   ]
  },
  {
   "cell_type": "code",
   "execution_count": 71,
   "id": "03429ca6",
   "metadata": {},
   "outputs": [
    {
     "data": {
      "text/html": [
       "<div>\n",
       "<style scoped>\n",
       "    .dataframe tbody tr th:only-of-type {\n",
       "        vertical-align: middle;\n",
       "    }\n",
       "\n",
       "    .dataframe tbody tr th {\n",
       "        vertical-align: top;\n",
       "    }\n",
       "\n",
       "    .dataframe thead th {\n",
       "        text-align: right;\n",
       "    }\n",
       "</style>\n",
       "<table border=\"1\" class=\"dataframe\">\n",
       "  <thead>\n",
       "    <tr style=\"text-align: right;\">\n",
       "      <th></th>\n",
       "      <th>max_prod</th>\n",
       "      <th>Opt_ship_out</th>\n",
       "      <th>Remaining</th>\n",
       "      <th>Utilization</th>\n",
       "    </tr>\n",
       "  </thead>\n",
       "  <tbody>\n",
       "    <tr>\n",
       "      <th>Baltimore</th>\n",
       "      <td>180</td>\n",
       "      <td>135.0</td>\n",
       "      <td>45.0</td>\n",
       "      <td>0.75</td>\n",
       "    </tr>\n",
       "    <tr>\n",
       "      <th>Birmingham</th>\n",
       "      <td>80</td>\n",
       "      <td>80.0</td>\n",
       "      <td>0.0</td>\n",
       "      <td>1.00</td>\n",
       "    </tr>\n",
       "    <tr>\n",
       "      <th>Charleston</th>\n",
       "      <td>180</td>\n",
       "      <td>162.0</td>\n",
       "      <td>18.0</td>\n",
       "      <td>0.90</td>\n",
       "    </tr>\n",
       "    <tr>\n",
       "      <th>Cleveland</th>\n",
       "      <td>200</td>\n",
       "      <td>186.0</td>\n",
       "      <td>14.0</td>\n",
       "      <td>0.93</td>\n",
       "    </tr>\n",
       "    <tr>\n",
       "      <th>Little Rock</th>\n",
       "      <td>140</td>\n",
       "      <td>140.0</td>\n",
       "      <td>0.0</td>\n",
       "      <td>1.00</td>\n",
       "    </tr>\n",
       "  </tbody>\n",
       "</table>\n",
       "</div>"
      ],
      "text/plain": [
       "             max_prod  Opt_ship_out  Remaining  Utilization\n",
       "Baltimore         180         135.0       45.0         0.75\n",
       "Birmingham         80          80.0        0.0         1.00\n",
       "Charleston        180         162.0       18.0         0.90\n",
       "Cleveland         200         186.0       14.0         0.93\n",
       "Little Rock       140         140.0        0.0         1.00"
      ]
     },
     "execution_count": 71,
     "metadata": {},
     "output_type": "execute_result"
    }
   ],
   "source": [
    "ship_out = sol.groupby('production')['shipment'].sum()\n",
    "pd.DataFrame({\"max_prod\":max_prod,\"Opt_ship_out\":ship_out,'Remaining':max_prod - ship_out, 'Utilization':ship_out/max_prod})"
   ]
  },
  {
   "cell_type": "code",
   "execution_count": null,
   "id": "f0def4cf",
   "metadata": {},
   "outputs": [],
   "source": []
  }
 ],
 "metadata": {
  "kernelspec": {
   "display_name": "Python 3 (ipykernel)",
   "language": "python",
   "name": "python3"
  },
  "language_info": {
   "codemirror_mode": {
    "name": "ipython",
    "version": 3
   },
   "file_extension": ".py",
   "mimetype": "text/x-python",
   "name": "python",
   "nbconvert_exporter": "python",
   "pygments_lexer": "ipython3",
   "version": "3.10.13"
  },
  "toc-autonumbering": false,
  "toc-showcode": false,
  "toc-showmarkdowntxt": false,
  "vscode": {
   "interpreter": {
    "hash": "70d79b410022258e996d14a47d5687c6c473c4d5d0c04ea47c92533eee9f501f"
   }
  }
 },
 "nbformat": 4,
 "nbformat_minor": 5
}
